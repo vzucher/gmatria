{
 "cells": [
  {
   "cell_type": "markdown",
   "id": "adaa9359",
   "metadata": {},
   "source": [
    "# Inker Scraper"
   ]
  },
  {
   "cell_type": "code",
   "execution_count": 30,
   "id": "483802b5",
   "metadata": {},
   "outputs": [],
   "source": [
    "import requests\n",
    "import asyncio\n",
    "from pyppeteer import launch\n",
    "from bs4 import BeautifulSoup\n",
    "from selenium import webdriver"
   ]
  },
  {
   "cell_type": "code",
   "execution_count": 31,
   "id": "3734c1a7",
   "metadata": {},
   "outputs": [],
   "source": [
    "# i need to build an instagram scraper to build a database from a certain website user profiles including their\n",
    "\n",
    "# 1. username\n",
    "# 2. bio\n",
    "# 3. posts\n",
    "# 4. email if available\n",
    "# 5. phone number if available\n",
    "\n",
    "# the scraper must receive an array of hashtags as an input, \n",
    "#request a query for posts with that hashtag, navigate iterating to the post containing that hashtag, \n",
    "# navigate to the profile of the post, store that user profile information containing 5 steps of info described \n",
    "#above and finally return again to the request with the hashtag search and the results of posts containing \n",
    "# that hashtag and loop iterating again "
   ]
  },
  {
   "cell_type": "code",
   "execution_count": 41,
   "id": "7b972323",
   "metadata": {},
   "outputs": [],
   "source": [
    "# Open Webdriver with Selenium, store all post links to an array\n",
    "path = '/opt/homebrew/bin/chromedriver'\n",
    "\n",
    "driver = webdriver.Chrome()\n",
    "\n",
    "hashtag = 'tattoo'\n",
    "\n",
    "url = requests.get(f\"https://www.instagram.com/explore/tags/{hashtag}/\")\n",
    "\n",
    "# Open a webpage\n",
    "driver.get('https://instagram.com')"
   ]
  },
  {
   "cell_type": "code",
   "execution_count": 27,
   "id": "35b3114e",
   "metadata": {},
   "outputs": [],
   "source": [
    "hashtag = 'tattoo'\n",
    "\n",
    "url = requests.get(f\"https://www.instagram.com/explore/tags/{hashtag}/\")\n",
    "\n",
    "p = 'https://www.instagram.com/p/CxbFNBkIjeC/'\n",
    "p_on_grid = 'https://www.instagram.com/p/CxbFNBkIjeC/?img_index=1'"
   ]
  },
  {
   "cell_type": "code",
   "execution_count": 68,
   "id": "af0856db",
   "metadata": {},
   "outputs": [
    {
     "name": "stderr",
     "output_type": "stream",
     "text": [
      "[nltk_data] Downloading package words to /Users/vzucher/nltk_data...\n",
      "[nltk_data]   Package words is already up-to-date!\n"
     ]
    }
   ],
   "source": [
    "import nltk\n",
    "from nltk.corpus import words\n",
    "\n",
    "# Ensure you've downloaded the wordlist dataset\n",
    "nltk.download('words')\n",
    "\n",
    "word_list = set(words.words())\n",
    "\n",
    "def is_english(phrase):\n",
    "    # Split the phrase into individual words\n",
    "    words_in_phrase = phrase.split()\n",
    "    \n",
    "    # Check if each word is in the English word list\n",
    "    return all(word.lower() in word_list for word in words_in_phrase)"
   ]
  },
  {
   "cell_type": "code",
   "execution_count": 86,
   "id": "8df47cb7",
   "metadata": {},
   "outputs": [
    {
     "data": {
      "text/plain": [
       "True"
      ]
     },
     "execution_count": 86,
     "metadata": {},
     "output_type": "execute_result"
    }
   ],
   "source": [
    "'good' in word_list"
   ]
  },
  {
   "cell_type": "code",
   "execution_count": 72,
   "id": "9d97a38f",
   "metadata": {},
   "outputs": [
    {
     "data": {
      "text/plain": [
       "True"
      ]
     },
     "execution_count": 72,
     "metadata": {},
     "output_type": "execute_result"
    }
   ],
   "source": [
    "is_english('Good')"
   ]
  },
  {
   "cell_type": "code",
   "execution_count": 89,
   "id": "7e255231",
   "metadata": {},
   "outputs": [],
   "source": [
    "numerology_file_path = \"data/numerology.json\"\n",
    "\n",
    "# Load numerology from JSON file\n",
    "with open(numerology_file_path, 'r') as f:\n",
    "    numerology = json.load(f)"
   ]
  },
  {
   "cell_type": "code",
   "execution_count": 90,
   "id": "35d8c035",
   "metadata": {},
   "outputs": [],
   "source": [
    "def gmatria(word, numerology):\n",
    "    \n",
    "    word = word.replace(\" \", \"\")\n",
    "    word = [*word]\n",
    "    mapped_array = [numerology[element] for element in word]\n",
    "    return sum(mapped_array)  "
   ]
  },
  {
   "cell_type": "code",
   "execution_count": 100,
   "id": "f135d844",
   "metadata": {},
   "outputs": [
    {
     "name": "stderr",
     "output_type": "stream",
     "text": [
      "[nltk_data] Downloading package words to /Users/vzucher/nltk_data...\n",
      "[nltk_data]   Unzipping corpora/words.zip.\n"
     ]
    }
   ],
   "source": [
    "# Validate Hebrew input\n",
    "def is_hebrew(text):\n",
    "    hebrew_pattern = r'^[א-ת\\s]+$'\n",
    "    return bool(re.match(hebrew_pattern, text))\n",
    "\n",
    "nltk.download('words', force=True)\n",
    "word_list = set(words.words())\n",
    "\n",
    "def is_english(phrase):\n",
    "    # Split the phrase into individual words\n",
    "    words_in_phrase = phrase.split()\n",
    "    \n",
    "    # Check if each word is in the English word list\n",
    "    return all(word.lower() in word_list for word in words_in_phrase)\n",
    "\n",
    "def translate(string):\n",
    "    string = translator.translate(string, dest=\"he\", src=\"en\").text\n",
    "    return string"
   ]
  },
  {
   "cell_type": "code",
   "execution_count": 103,
   "id": "3fdb7c85",
   "metadata": {},
   "outputs": [],
   "source": [
    "from googletrans import Translator"
   ]
  },
  {
   "cell_type": "code",
   "execution_count": 104,
   "id": "9c6a89dc",
   "metadata": {},
   "outputs": [],
   "source": [
    "def calculator(input_text, numerology):\n",
    "\n",
    "    # If no input provided, just return\n",
    "    if not input_text:\n",
    "        return\n",
    "\n",
    "    # If it's a Hebrew word\n",
    "    if is_hebrew(input_text):\n",
    "        gematria_value = gmatria(input_text, numerology)\n",
    "        print(f\"The Gmatria value of '{input_text}' is {gematria_value}\")\n",
    "#         df = similar_words(gematria_value, num_map_df)\n",
    "#         df = df.drop(columns=df.columns[0])\n",
    "#         type_machine(str=\"Here are a few other Shorashim with the same gmatria numerical value:\")\n",
    "#         display_df(gematria_value)\n",
    "        \n",
    "    # If it's an English word\n",
    "    elif is_english(input_text):\n",
    "        translator = Translator()\n",
    "        translated_text = translator.translate(input_text, src='en', dest='he').text\n",
    "        gematria_value = gmatria(translated_text, numerology)\n",
    "        print(f\"The Gmatria value of '{translated_text}' (translated from '{input_text}') is {gematria_value}\")\n",
    "#         df = similar_words(gematria_value, num_map_df)\n",
    "#         df = df.drop(columns=df.columns[0])\n",
    "#         type_machine(str=\"Here are a few other Shorashim with the same gmatria numerical value:\")\n",
    "#         display_df(gematria_value)\n",
    "\n",
    "    # If input isn't valid Hebrew or English\n",
    "    else:\n",
    "        print(\"Please enter a valid Hebrew or English word or phrase.\")"
   ]
  },
  {
   "cell_type": "code",
   "execution_count": 105,
   "id": "c1a6557e",
   "metadata": {},
   "outputs": [
    {
     "ename": "KeyError",
     "evalue": "'ִ'",
     "output_type": "error",
     "traceback": [
      "\u001b[0;31m---------------------------------------------------------------------------\u001b[0m",
      "\u001b[0;31mKeyError\u001b[0m                                  Traceback (most recent call last)",
      "Cell \u001b[0;32mIn [105], line 1\u001b[0m\n\u001b[0;32m----> 1\u001b[0m \u001b[43mcalculator\u001b[49m\u001b[43m(\u001b[49m\u001b[38;5;124;43m'\u001b[39;49m\u001b[38;5;124;43mtest\u001b[39;49m\u001b[38;5;124;43m'\u001b[39;49m\u001b[43m,\u001b[49m\u001b[43m \u001b[49m\u001b[43mnumerology\u001b[49m\u001b[43m)\u001b[49m\n",
      "Cell \u001b[0;32mIn [104], line 20\u001b[0m, in \u001b[0;36mcalculator\u001b[0;34m(input_text, numerology)\u001b[0m\n\u001b[1;32m     18\u001b[0m         translator \u001b[38;5;241m=\u001b[39m Translator()\n\u001b[1;32m     19\u001b[0m         translated_text \u001b[38;5;241m=\u001b[39m translator\u001b[38;5;241m.\u001b[39mtranslate(input_text, src\u001b[38;5;241m=\u001b[39m\u001b[38;5;124m'\u001b[39m\u001b[38;5;124men\u001b[39m\u001b[38;5;124m'\u001b[39m, dest\u001b[38;5;241m=\u001b[39m\u001b[38;5;124m'\u001b[39m\u001b[38;5;124mhe\u001b[39m\u001b[38;5;124m'\u001b[39m)\u001b[38;5;241m.\u001b[39mtext\n\u001b[0;32m---> 20\u001b[0m         gematria_value \u001b[38;5;241m=\u001b[39m \u001b[43mgmatria\u001b[49m\u001b[43m(\u001b[49m\u001b[43mtranslated_text\u001b[49m\u001b[43m,\u001b[49m\u001b[43m \u001b[49m\u001b[43mnumerology\u001b[49m\u001b[43m)\u001b[49m\n\u001b[1;32m     21\u001b[0m         \u001b[38;5;28mprint\u001b[39m(\u001b[38;5;124mf\u001b[39m\u001b[38;5;124m\"\u001b[39m\u001b[38;5;124mThe Gmatria value of \u001b[39m\u001b[38;5;124m'\u001b[39m\u001b[38;5;132;01m{\u001b[39;00mtranslated_text\u001b[38;5;132;01m}\u001b[39;00m\u001b[38;5;124m'\u001b[39m\u001b[38;5;124m (translated from \u001b[39m\u001b[38;5;124m'\u001b[39m\u001b[38;5;132;01m{\u001b[39;00minput_text\u001b[38;5;132;01m}\u001b[39;00m\u001b[38;5;124m'\u001b[39m\u001b[38;5;124m) is \u001b[39m\u001b[38;5;132;01m{\u001b[39;00mgematria_value\u001b[38;5;132;01m}\u001b[39;00m\u001b[38;5;124m\"\u001b[39m)\n\u001b[1;32m     22\u001b[0m \u001b[38;5;66;03m#         df = similar_words(gematria_value, num_map_df)\u001b[39;00m\n\u001b[1;32m     23\u001b[0m \u001b[38;5;66;03m#         df = df.drop(columns=df.columns[0])\u001b[39;00m\n\u001b[1;32m     24\u001b[0m \u001b[38;5;66;03m#         type_machine(str=\"Here are a few other Shorashim with the same gmatria numerical value:\")\u001b[39;00m\n\u001b[0;32m   (...)\u001b[0m\n\u001b[1;32m     27\u001b[0m     \u001b[38;5;66;03m# If input isn't valid Hebrew or English\u001b[39;00m\n\u001b[1;32m     28\u001b[0m     \u001b[38;5;28;01melse\u001b[39;00m:\n",
      "Cell \u001b[0;32mIn [90], line 5\u001b[0m, in \u001b[0;36mgmatria\u001b[0;34m(word, numerology)\u001b[0m\n\u001b[1;32m      3\u001b[0m word \u001b[38;5;241m=\u001b[39m word\u001b[38;5;241m.\u001b[39mreplace(\u001b[38;5;124m\"\u001b[39m\u001b[38;5;124m \u001b[39m\u001b[38;5;124m\"\u001b[39m, \u001b[38;5;124m\"\u001b[39m\u001b[38;5;124m\"\u001b[39m)\n\u001b[1;32m      4\u001b[0m word \u001b[38;5;241m=\u001b[39m [\u001b[38;5;241m*\u001b[39mword]\n\u001b[0;32m----> 5\u001b[0m mapped_array \u001b[38;5;241m=\u001b[39m [numerology[element] \u001b[38;5;28;01mfor\u001b[39;00m element \u001b[38;5;129;01min\u001b[39;00m word]\n\u001b[1;32m      6\u001b[0m \u001b[38;5;28;01mreturn\u001b[39;00m \u001b[38;5;28msum\u001b[39m(mapped_array)\n",
      "Cell \u001b[0;32mIn [90], line 5\u001b[0m, in \u001b[0;36m<listcomp>\u001b[0;34m(.0)\u001b[0m\n\u001b[1;32m      3\u001b[0m word \u001b[38;5;241m=\u001b[39m word\u001b[38;5;241m.\u001b[39mreplace(\u001b[38;5;124m\"\u001b[39m\u001b[38;5;124m \u001b[39m\u001b[38;5;124m\"\u001b[39m, \u001b[38;5;124m\"\u001b[39m\u001b[38;5;124m\"\u001b[39m)\n\u001b[1;32m      4\u001b[0m word \u001b[38;5;241m=\u001b[39m [\u001b[38;5;241m*\u001b[39mword]\n\u001b[0;32m----> 5\u001b[0m mapped_array \u001b[38;5;241m=\u001b[39m [\u001b[43mnumerology\u001b[49m\u001b[43m[\u001b[49m\u001b[43melement\u001b[49m\u001b[43m]\u001b[49m \u001b[38;5;28;01mfor\u001b[39;00m element \u001b[38;5;129;01min\u001b[39;00m word]\n\u001b[1;32m      6\u001b[0m \u001b[38;5;28;01mreturn\u001b[39;00m \u001b[38;5;28msum\u001b[39m(mapped_array)\n",
      "\u001b[0;31mKeyError\u001b[0m: 'ִ'"
     ]
    }
   ],
   "source": [
    "calculator('test', numerology)"
   ]
  },
  {
   "cell_type": "code",
   "execution_count": 58,
   "id": "fa40d898",
   "metadata": {},
   "outputs": [],
   "source": [
    "def is_english(word):\n",
    "    if ' ' in word:\n",
    "        arr = word.split()\n",
    "        for i in arr:\n",
    "            i.lower() in word_list\n",
    "            \n",
    "    return word.lower() in word_list"
   ]
  },
  {
   "cell_type": "code",
   "execution_count": null,
   "id": "06496314",
   "metadata": {},
   "outputs": [],
   "source": []
  }
 ],
 "metadata": {
  "kernelspec": {
   "display_name": "Python 3 (ipykernel)",
   "language": "python",
   "name": "python3"
  },
  "language_info": {
   "codemirror_mode": {
    "name": "ipython",
    "version": 3
   },
   "file_extension": ".py",
   "mimetype": "text/x-python",
   "name": "python",
   "nbconvert_exporter": "python",
   "pygments_lexer": "ipython3",
   "version": "3.10.6"
  },
  "toc": {
   "base_numbering": 1,
   "nav_menu": {},
   "number_sections": true,
   "sideBar": true,
   "skip_h1_title": false,
   "title_cell": "Table of Contents",
   "title_sidebar": "Contents",
   "toc_cell": false,
   "toc_position": {},
   "toc_section_display": true,
   "toc_window_display": false
  }
 },
 "nbformat": 4,
 "nbformat_minor": 5
}

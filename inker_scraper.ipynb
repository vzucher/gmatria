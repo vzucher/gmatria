{
 "cells": [
  {
   "cell_type": "markdown",
   "id": "d803adb2",
   "metadata": {},
   "source": [
    "# Inker Scraper"
   ]
  },
  {
   "cell_type": "code",
   "execution_count": 30,
   "id": "0da81c8f",
   "metadata": {},
   "outputs": [],
   "source": [
    "import requests\n",
    "import asyncio\n",
    "from pyppeteer import launch\n",
    "from bs4 import BeautifulSoup\n",
    "from selenium import webdriver"
   ]
  },
  {
   "cell_type": "code",
   "execution_count": 31,
   "id": "7b278e52",
   "metadata": {},
   "outputs": [],
   "source": [
    "# i need to build an instagram scraper to build a database from a certain website user profiles including their\n",
    "\n",
    "# 1. username\n",
    "# 2. bio\n",
    "# 3. posts\n",
    "# 4. email if available\n",
    "# 5. phone number if available\n",
    "\n",
    "# the scraper must receive an array of hashtags as an input, \n",
    "#request a query for posts with that hashtag, navigate iterating to the post containing that hashtag, \n",
    "# navigate to the profile of the post, store that user profile information containing 5 steps of info described \n",
    "#above and finally return again to the request with the hashtag search and the results of posts containing \n",
    "# that hashtag and loop iterating again "
   ]
  },
  {
   "cell_type": "code",
   "execution_count": 41,
   "id": "9494841a",
   "metadata": {},
   "outputs": [],
   "source": [
    "# Open Webdriver with Selenium, store all post links to an array\n",
    "path = '/opt/homebrew/bin/chromedriver'\n",
    "\n",
    "driver = webdriver.Chrome()\n",
    "\n",
    "hashtag = 'tattoo'\n",
    "\n",
    "url = requests.get(f\"https://www.instagram.com/explore/tags/{hashtag}/\")\n",
    "\n",
    "# Open a webpage\n",
    "driver.get('https://instagram.com')"
   ]
  },
  {
   "cell_type": "code",
   "execution_count": 27,
   "id": "c29b4e68",
   "metadata": {},
   "outputs": [],
   "source": [
    "hashtag = 'tattoo'\n",
    "\n",
    "url = requests.get(f\"https://www.instagram.com/explore/tags/{hashtag}/\")\n",
    "\n",
    "p = 'https://www.instagram.com/p/CxbFNBkIjeC/'\n",
    "p_on_grid = 'https://www.instagram.com/p/CxbFNBkIjeC/?img_index=1'"
   ]
  }
 ],
 "metadata": {
  "kernelspec": {
   "display_name": "Python 3 (ipykernel)",
   "language": "python",
   "name": "python3"
  },
  "language_info": {
   "codemirror_mode": {
    "name": "ipython",
    "version": 3
   },
   "file_extension": ".py",
   "mimetype": "text/x-python",
   "name": "python",
   "nbconvert_exporter": "python",
   "pygments_lexer": "ipython3",
   "version": "3.10.6"
  },
  "toc": {
   "base_numbering": 1,
   "nav_menu": {},
   "number_sections": true,
   "sideBar": true,
   "skip_h1_title": false,
   "title_cell": "Table of Contents",
   "title_sidebar": "Contents",
   "toc_cell": false,
   "toc_position": {},
   "toc_section_display": true,
   "toc_window_display": false
  }
 },
 "nbformat": 4,
 "nbformat_minor": 5
}
